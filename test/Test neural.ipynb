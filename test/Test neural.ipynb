{
 "cells": [
  {
   "cell_type": "code",
   "execution_count": 9,
   "metadata": {},
   "outputs": [],
   "source": [
    "from tensorflow.keras.datasets import fashion_mnist\n",
    "from tensorflow.keras.models import Sequential\n",
    "from tensorflow.keras.layers import Dense, Dropout\n",
    "from tensorflow.keras import utils\n",
    "from tensorflow.keras.preprocessing import image\n",
    "import numpy as np\n",
    "import matplotlib.pyplot as plt\n",
    "%matplotlib inline "
   ]
  },
  {
   "cell_type": "code",
   "execution_count": 2,
   "metadata": {},
   "outputs": [],
   "source": [
    "# Загружаем данные\n",
    "(x_train, y_train), (x_test, y_test) = fashion_mnist.load_data()\n",
    "\n",
    "# Преобразование размерности изображений\n",
    "x_train = x_train.reshape(60000, 784)\n",
    "# Нормализация данных\n",
    "x_train = x_train / 255"
   ]
  },
  {
   "cell_type": "code",
   "execution_count": 3,
   "metadata": {},
   "outputs": [],
   "source": [
    "# Преобразуем метки правильных ответов в категории\n",
    "y_train = utils.to_categorical(y_train, 10)\n",
    "\n",
    "# 0 -> [1, 0, 0, 0, 0, 0, 0, 0, 0, 0]\n",
    "# 2 -> [0, 0, 1, 0, 0, 0, 0, 0, 0, 0]\n",
    "# 9 -> [0, 0, 0, 0, 0, 0, 0, 0, 0, 1]\n",
    "\n",
    "# Названия классов\n",
    "classes = ['футболка', 'брюки', 'свитер', 'платье', 'пальто', 'туфли', 'рубашка', 'кроссовки', 'сумка', 'ботинки']\n"
   ]
  },
  {
   "cell_type": "code",
   "execution_count": 4,
   "metadata": {
    "scrolled": true
   },
   "outputs": [
    {
     "name": "stdout",
     "output_type": "stream",
     "text": [
      "WARNING:tensorflow:From C:\\Users\\Petr Matyukov\\AppData\\Roaming\\Python\\Python37\\site-packages\\tensorflow\\python\\ops\\resource_variable_ops.py:435: colocate_with (from tensorflow.python.framework.ops) is deprecated and will be removed in a future version.\n",
      "Instructions for updating:\n",
      "Colocations handled automatically by placer.\n"
     ]
    }
   ],
   "source": [
    "# Создаем последовательную модель\n",
    "model = Sequential()\n",
    "# Входной полносвязный слой, 800 нейронов, 784 входа в каждый нейрон\n",
    "model.add(Dense(800, input_dim=784, activation=\"relu\"))\n",
    "# Выходной полносвязный слой, 10 нейронов (по количеству категорий)\n",
    "model.add(Dense(10, activation=\"softmax\"))"
   ]
  },
  {
   "cell_type": "code",
   "execution_count": 5,
   "metadata": {
    "scrolled": true
   },
   "outputs": [
    {
     "name": "stdout",
     "output_type": "stream",
     "text": [
      "_________________________________________________________________\n",
      "Layer (type)                 Output Shape              Param #   \n",
      "=================================================================\n",
      "dense (Dense)                (None, 800)               628000    \n",
      "_________________________________________________________________\n",
      "dense_1 (Dense)              (None, 10)                8010      \n",
      "=================================================================\n",
      "Total params: 636,010\n",
      "Trainable params: 636,010\n",
      "Non-trainable params: 0\n",
      "_________________________________________________________________\n",
      "None\n"
     ]
    }
   ],
   "source": [
    "# Компилируем сеть\n",
    "model.compile(loss=\"categorical_crossentropy\", optimizer=\"SGD\", metrics=[\"accuracy\"])\n",
    "\n",
    "print(model.summary())"
   ]
  },
  {
   "cell_type": "markdown",
   "metadata": {},
   "source": [
    "<img src=\"f_activation.png\" width=\"600\">"
   ]
  },
  {
   "cell_type": "code",
   "execution_count": 6,
   "metadata": {},
   "outputs": [
    {
     "name": "stdout",
     "output_type": "stream",
     "text": [
      "WARNING:tensorflow:From C:\\Users\\Petr Matyukov\\AppData\\Roaming\\Python\\Python37\\site-packages\\tensorflow\\python\\ops\\math_ops.py:3066: to_int32 (from tensorflow.python.ops.math_ops) is deprecated and will be removed in a future version.\n",
      "Instructions for updating:\n",
      "Use tf.cast instead.\n",
      "Epoch 1/100\n",
      "60000/60000 [==============================] - 6s 96us/sample - loss: 1.1177 - acc: 0.6712\n",
      "Epoch 2/100\n",
      "60000/60000 [==============================] - 5s 89us/sample - loss: 0.7215 - acc: 0.7732\n",
      "Epoch 3/100\n",
      "60000/60000 [==============================] - 5s 89us/sample - loss: 0.6324 - acc: 0.7999\n",
      "Epoch 4/100\n",
      "60000/60000 [==============================] - 5s 89us/sample - loss: 0.5835 - acc: 0.8129\n",
      "Epoch 5/100\n",
      "60000/60000 [==============================] - 5s 90us/sample - loss: 0.5520 - acc: 0.8204\n",
      "Epoch 6/100\n",
      "60000/60000 [==============================] - 5s 89us/sample - loss: 0.5291 - acc: 0.8250\n",
      "Epoch 7/100\n",
      "60000/60000 [==============================] - 5s 91us/sample - loss: 0.5120 - acc: 0.8307\n",
      "Epoch 8/100\n",
      "60000/60000 [==============================] - 9s 155us/sample - loss: 0.4978 - acc: 0.8344s - loss: 0.499\n",
      "Epoch 9/100\n",
      "60000/60000 [==============================] - 6s 106us/sample - loss: 0.4865 - acc: 0.8380\n",
      "Epoch 10/100\n",
      "60000/60000 [==============================] - 5s 90us/sample - loss: 0.4768 - acc: 0.8402\n",
      "Epoch 11/100\n",
      "60000/60000 [==============================] - 20s 338us/sample - loss: 0.4685 - acc: 0.8419\n",
      "Epoch 12/100\n",
      "60000/60000 [==============================] - 25s 424us/sample - loss: 0.4610 - acc: 0.8445\n",
      "Epoch 13/100\n",
      "60000/60000 [==============================] - 20s 337us/sample - loss: 0.4548 - acc: 0.8461\n",
      "Epoch 14/100\n",
      "60000/60000 [==============================] - 21s 349us/sample - loss: 0.4487 - acc: 0.8475\n",
      "Epoch 15/100\n",
      "60000/60000 [==============================] - 21s 342us/sample - loss: 0.4432 - acc: 0.8497\n",
      "Epoch 16/100\n",
      "60000/60000 [==============================] - 20s 332us/sample - loss: 0.4380 - acc: 0.8507\n",
      "Epoch 17/100\n",
      "60000/60000 [==============================] - 20s 334us/sample - loss: 0.4339 - acc: 0.8519\n",
      "Epoch 18/100\n",
      "60000/60000 [==============================] - 20s 332us/sample - loss: 0.4296 - acc: 0.8540\n",
      "Epoch 19/100\n",
      "60000/60000 [==============================] - 20s 340us/sample - loss: 0.4256 - acc: 0.8547\n",
      "Epoch 20/100\n",
      "60000/60000 [==============================] - 20s 341us/sample - loss: 0.4216 - acc: 0.8557\n",
      "Epoch 21/100\n",
      "60000/60000 [==============================] - 20s 329us/sample - loss: 0.4185 - acc: 0.8570\n",
      "Epoch 22/100\n",
      "60000/60000 [==============================] - 20s 337us/sample - loss: 0.4152 - acc: 0.8580\n",
      "Epoch 23/100\n",
      "60000/60000 [==============================] - 21s 351us/sample - loss: 0.4116 - acc: 0.8595\n",
      "Epoch 24/100\n",
      "60000/60000 [==============================] - 21s 353us/sample - loss: 0.4085 - acc: 0.8609\n",
      "Epoch 25/100\n",
      "60000/60000 [==============================] - 15s 245us/sample - loss: 0.4054 - acc: 0.8619\n",
      "Epoch 26/100\n",
      "60000/60000 [==============================] - 5s 92us/sample - loss: 0.4031 - acc: 0.8620\n",
      "Epoch 27/100\n",
      "60000/60000 [==============================] - 5s 91us/sample - loss: 0.4001 - acc: 0.8627\n",
      "Epoch 28/100\n",
      "60000/60000 [==============================] - 5s 91us/sample - loss: 0.3972 - acc: 0.8640\n",
      "Epoch 29/100\n",
      "60000/60000 [==============================] - 5s 91us/sample - loss: 0.3951 - acc: 0.8645\n",
      "Epoch 30/100\n",
      "60000/60000 [==============================] - 5s 91us/sample - loss: 0.3929 - acc: 0.8655\n",
      "Epoch 31/100\n",
      "60000/60000 [==============================] - 5s 90us/sample - loss: 0.3908 - acc: 0.8661\n",
      "Epoch 32/100\n",
      "60000/60000 [==============================] - 6s 94us/sample - loss: 0.3882 - acc: 0.8673\n",
      "Epoch 33/100\n",
      "60000/60000 [==============================] - 8s 141us/sample - loss: 0.3863 - acc: 0.8676s - loss:  - \n",
      "Epoch 34/100\n",
      "60000/60000 [==============================] - 7s 122us/sample - loss: 0.3840 - acc: 0.8683\n",
      "Epoch 35/100\n",
      "60000/60000 [==============================] - 6s 92us/sample - loss: 0.3819 - acc: 0.8687\n",
      "Epoch 36/100\n",
      "60000/60000 [==============================] - 11s 183us/sample - loss: 0.3801 - acc: 0.8696\n",
      "Epoch 37/100\n",
      "60000/60000 [==============================] - 5s 91us/sample - loss: 0.3779 - acc: 0.8699\n",
      "Epoch 38/100\n",
      "60000/60000 [==============================] - 7s 110us/sample - loss: 0.3759 - acc: 0.8710\n",
      "Epoch 39/100\n",
      "60000/60000 [==============================] - 10s 168us/sample - loss: 0.3742 - acc: 0.8717\n",
      "Epoch 40/100\n",
      "60000/60000 [==============================] - 6s 96us/sample - loss: 0.3726 - acc: 0.8726\n",
      "Epoch 41/100\n",
      "60000/60000 [==============================] - 11s 176us/sample - loss: 0.3705 - acc: 0.8730\n",
      "Epoch 42/100\n",
      "60000/60000 [==============================] - 5s 91us/sample - loss: 0.3692 - acc: 0.8735\n",
      "Epoch 43/100\n",
      "60000/60000 [==============================] - 12s 198us/sample - loss: 0.3675 - acc: 0.8732\n",
      "Epoch 44/100\n",
      "60000/60000 [==============================] - 6s 107us/sample - loss: 0.3659 - acc: 0.8745\n",
      "Epoch 45/100\n",
      "60000/60000 [==============================] - 10s 173us/sample - loss: 0.3645 - acc: 0.8749\n",
      "Epoch 46/100\n",
      "60000/60000 [==============================] - 6s 105us/sample - loss: 0.3627 - acc: 0.8760\n",
      "Epoch 47/100\n",
      "60000/60000 [==============================] - 11s 176us/sample - loss: 0.3611 - acc: 0.8753\n",
      "Epoch 48/100\n",
      "60000/60000 [==============================] - 6s 95us/sample - loss: 0.3599 - acc: 0.8758\n",
      "Epoch 49/100\n",
      "60000/60000 [==============================] - 12s 198us/sample - loss: 0.3583 - acc: 0.8760 - loss: 0.3578 - acc:\n",
      "Epoch 50/100\n",
      "60000/60000 [==============================] - 6s 95us/sample - loss: 0.3572 - acc: 0.8772\n",
      "Epoch 51/100\n",
      "60000/60000 [==============================] - 9s 148us/sample - loss: 0.3554 - acc: 0.8772\n",
      "Epoch 52/100\n",
      "60000/60000 [==============================] - 9s 155us/sample - loss: 0.3539 - acc: 0.8776\n",
      "Epoch 53/100\n",
      "60000/60000 [==============================] - 9s 142us/sample - loss: 0.3529 - acc: 0.8775\n",
      "Epoch 54/100\n",
      "60000/60000 [==============================] - 8s 137us/sample - loss: 0.3515 - acc: 0.8785\n",
      "Epoch 55/100\n",
      "60000/60000 [==============================] - 9s 150us/sample - loss: 0.3501 - acc: 0.8788\n",
      "Epoch 56/100\n",
      "60000/60000 [==============================] - 8s 136us/sample - loss: 0.3487 - acc: 0.8794\n",
      "Epoch 57/100\n",
      "60000/60000 [==============================] - 7s 115us/sample - loss: 0.3475 - acc: 0.8799\n",
      "Epoch 58/100\n",
      "60000/60000 [==============================] - 11s 185us/sample - loss: 0.3464 - acc: 0.8804 - loss:\n",
      "Epoch 59/100\n",
      "60000/60000 [==============================] - 7s 114us/sample - loss: 0.3453 - acc: 0.8806\n",
      "Epoch 60/100\n",
      "60000/60000 [==============================] - 10s 169us/sample - loss: 0.3438 - acc: 0.8815 \n",
      "Epoch 61/100\n",
      "60000/60000 [==============================] - 8s 131us/sample - loss: 0.3424 - acc: 0.8812\n",
      "Epoch 62/100\n",
      "60000/60000 [==============================] - 9s 153us/sample - loss: 0.3417 - acc: 0.8818\n",
      "Epoch 63/100\n",
      "60000/60000 [==============================] - 8s 142us/sample - loss: 0.3404 - acc: 0.8820\n",
      "Epoch 64/100\n",
      "60000/60000 [==============================] - 9s 147us/sample - loss: 0.3395 - acc: 0.8828\n",
      "Epoch 65/100\n",
      "60000/60000 [==============================] - 7s 111us/sample - loss: 0.3384 - acc: 0.8820\n",
      "Epoch 66/100\n",
      "60000/60000 [==============================] - 11s 184us/sample - loss: 0.3372 - acc: 0.8826\n",
      "Epoch 67/100\n",
      "60000/60000 [==============================] - 6s 96us/sample - loss: 0.3355 - acc: 0.88401s -\n",
      "Epoch 68/100\n",
      "60000/60000 [==============================] - 12s 204us/sample - loss: 0.3347 - acc: 0.8841\n",
      "Epoch 69/100\n",
      "60000/60000 [==============================] - 6s 93us/sample - loss: 0.3337 - acc: 0.8846\n",
      "Epoch 70/100\n",
      "60000/60000 [==============================] - 10s 163us/sample - loss: 0.3326 - acc: 0.8849\n",
      "Epoch 71/100\n",
      "60000/60000 [==============================] - 7s 123us/sample - loss: 0.3314 - acc: 0.8850\n",
      "Epoch 72/100\n",
      "60000/60000 [==============================] - 9s 148us/sample - loss: 0.3304 - acc: 0.8854\n",
      "Epoch 73/100\n",
      "60000/60000 [==============================] - 8s 132us/sample - loss: 0.3294 - acc: 0.8857\n",
      "Epoch 74/100\n",
      "60000/60000 [==============================] - 9s 150us/sample - loss: 0.3289 - acc: 0.8860s - loss: 0.3315 - acc: - \n",
      "Epoch 75/100\n"
     ]
    },
    {
     "name": "stdout",
     "output_type": "stream",
     "text": [
      "60000/60000 [==============================] - 7s 120us/sample - loss: 0.3279 - acc: 0.8854\n",
      "Epoch 76/100\n",
      "60000/60000 [==============================] - 7s 121us/sample - loss: 0.3265 - acc: 0.8863\n",
      "Epoch 77/100\n",
      "60000/60000 [==============================] - 11s 181us/sample - loss: 0.3255 - acc: 0.8865\n",
      "Epoch 78/100\n",
      "60000/60000 [==============================] - 6s 93us/sample - loss: 0.3244 - acc: 0.8873\n",
      "Epoch 79/100\n",
      "60000/60000 [==============================] - 12s 201us/sample - loss: 0.3236 - acc: 0.8871 - los\n",
      "Epoch 80/100\n",
      "60000/60000 [==============================] - 6s 92us/sample - loss: 0.3227 - acc: 0.8873\n",
      "Epoch 81/100\n",
      "60000/60000 [==============================] - 8s 133us/sample - loss: 0.3217 - acc: 0.8879\n",
      "Epoch 82/100\n",
      "60000/60000 [==============================] - 9s 158us/sample - loss: 0.3208 - acc: 0.8887\n",
      "Epoch 83/100\n",
      "60000/60000 [==============================] - 6s 94us/sample - loss: 0.3198 - acc: 0.8883\n",
      "Epoch 84/100\n",
      "60000/60000 [==============================] - 12s 205us/sample - loss: 0.3188 - acc: 0.8891\n",
      "Epoch 85/100\n",
      "60000/60000 [==============================] - 5s 91us/sample - loss: 0.3180 - acc: 0.8890\n",
      "Epoch 86/100\n",
      "60000/60000 [==============================] - 11s 186us/sample - loss: 0.3173 - acc: 0.8894\n",
      "Epoch 87/100\n",
      "60000/60000 [==============================] - 6s 92us/sample - loss: 0.3159 - acc: 0.8891\n",
      "Epoch 88/100\n",
      "60000/60000 [==============================] - 11s 186us/sample - loss: 0.3152 - acc: 0.8897\n",
      "Epoch 89/100\n",
      "60000/60000 [==============================] - 19s 317us/sample - loss: 0.3143 - acc: 0.8904\n",
      "Epoch 90/100\n",
      "60000/60000 [==============================] - 19s 319us/sample - loss: 0.3136 - acc: 0.8897\n",
      "Epoch 91/100\n",
      "60000/60000 [==============================] - 6s 92us/sample - loss: 0.3125 - acc: 0.8902\n",
      "Epoch 92/100\n",
      "60000/60000 [==============================] - 6s 92us/sample - loss: 0.3117 - acc: 0.8910\n",
      "Epoch 93/100\n",
      "60000/60000 [==============================] - 5s 90us/sample - loss: 0.3108 - acc: 0.8918\n",
      "Epoch 94/100\n",
      "60000/60000 [==============================] - 11s 189us/sample - loss: 0.3103 - acc: 0.8920\n",
      "Epoch 95/100\n",
      "60000/60000 [==============================] - 5s 91us/sample - loss: 0.3088 - acc: 0.8921\n",
      "Epoch 96/100\n",
      "60000/60000 [==============================] - 11s 176us/sample - loss: 0.3083 - acc: 0.8913\n",
      "Epoch 97/100\n",
      "60000/60000 [==============================] - 6s 93us/sample - loss: 0.3073 - acc: 0.8925\n",
      "Epoch 98/100\n",
      "60000/60000 [==============================] - 10s 164us/sample - loss: 0.3070 - acc: 0.8923\n",
      "Epoch 99/100\n",
      "60000/60000 [==============================] - 6s 107us/sample - loss: 0.3060 - acc: 0.8924\n",
      "Epoch 100/100\n",
      "60000/60000 [==============================] - 6s 102us/sample - loss: 0.3051 - acc: 0.8929\n"
     ]
    }
   ],
   "source": [
    "# Обучаем сеть\n",
    "history = model.fit(x_train, y_train, \n",
    "                    batch_size=200, history = model.fit(x_train, y_train, \n",
    "                    batch_size=200, \n",
    "                    epochs=100,  \n",
    "                    verbose=1)\n",
    "                    epochs=100,  \n",
    "                    verbose=1)"
   ]
  },
  {
   "cell_type": "code",
   "execution_count": 7,
   "metadata": {},
   "outputs": [],
   "source": [
    "# Запускаем распознавание набора данных, на котором обучалась сеть\n",
    "predictions = model.predict(x_train)"
   ]
  },
  {
   "cell_type": "code",
   "execution_count": 10,
   "metadata": {},
   "outputs": [
    {
     "data": {
      "image/png": "[encoded data removed]",
      "text/plain": [
       "<Figure size 432x288 with 1 Axes>"
      ]
     },
     "metadata": {
      "needs_background": "light"
     },
     "output_type": "display_data"
    }
   ],
   "source": [
    "# Меняйте значение n чтобы просмотреть результаты распознавания других изображений\n",
    "n = 0\n",
    "plt.imshow(x_train[n].reshape(28, 28), cmap=plt.cm.binary)\n",
    "plt.show()"
   ]
  },
  {
   "cell_type": "code",
   "execution_count": 11,
   "metadata": {},
   "outputs": [
    {
     "name": "stdout",
     "output_type": "stream",
     "text": [
      "[2.83374746e-09 5.74337577e-10 5.81313941e-10 4.26681218e-10\n",
      " 1.17839169e-10 1.16906995e-04 3.09522683e-08 4.48328588e-04\n",
      " 1.40474481e-06 9.99433339e-01]\n"
     ]
    }
   ],
   "source": [
    "print(predictions[n])"
   ]
  },
  {
   "cell_type": "code",
   "execution_count": 12,
   "metadata": {},
   "outputs": [
    {
     "data": {
      "text/plain": [
       "9"
      ]
     },
     "execution_count": 12,
     "metadata": {},
     "output_type": "execute_result"
    }
   ],
   "source": [
    "# Определяем номер класса изображения, который предлагает сеть\n",
    "np.argmax(predictions[n])"
   ]
  },
  {
   "cell_type": "code",
   "execution_count": 13,
   "metadata": {},
   "outputs": [
    {
     "data": {
      "text/plain": [
       "'ботинки'"
      ]
     },
     "execution_count": 13,
     "metadata": {},
     "output_type": "execute_result"
    }
   ],
   "source": [
    "classes[np.argmax(predictions[n])]"
   ]
  },
  {
   "cell_type": "code",
   "execution_count": 14,
   "metadata": {},
   "outputs": [
    {
     "data": {
      "text/plain": [
       "9"
      ]
     },
     "execution_count": 14,
     "metadata": {},
     "output_type": "execute_result"
    }
   ],
   "source": [
    "np.argmax(y_train[n])"
   ]
  },
  {
   "cell_type": "code",
   "execution_count": 15,
   "metadata": {},
   "outputs": [
    {
     "data": {
      "text/plain": [
       "'ботинки'"
      ]
     },
     "execution_count": 15,
     "metadata": {},
     "output_type": "execute_result"
    }
   ],
   "source": [
    "classes[np.argmax(y_train[n])]"
   ]
  },
  {
   "cell_type": "markdown",
   "metadata": {},
   "source": [
    "## Проверка на тестовых данных"
   ]
  },
  {
   "cell_type": "code",
   "execution_count": 42,
   "metadata": {},
   "outputs": [],
   "source": [
    "# Преобразование размерности изображений\n",
    "x_test = x_test.reshape(10000, 784)\n",
    "# Нормализация данных\n",
    "x_test = x_test / 255\n",
    "# Преобразуем метки правильных ответов в категории\n",
    "y_test = utils.to_categorical(y_test, 10)\n",
    "# Запускаем распознавание набора тестовых данных\n",
    "predictions = model.predict(x_test)"
   ]
  },
  {
   "cell_type": "code",
   "execution_count": 43,
   "metadata": {},
   "outputs": [
    {
     "data": {
      "image/png": "[encoded data removed]",
      "text/plain": [
       "<Figure size 432x288 with 1 Axes>"
      ]
     },
     "metadata": {
      "needs_background": "light"
     },
     "output_type": "display_data"
    }
   ],
   "source": [
    "# Меняйте значение n чтобы просмотреть результаты распознавания других изображений\n",
    "n = 7\n",
    "plt.imshow(x_test[n].reshape(28, 28), cmap=plt.cm.binary)\n",
    "plt.show()"
   ]
  },
  {
   "cell_type": "code",
   "execution_count": 44,
   "metadata": {
    "scrolled": true
   },
   "outputs": [
    {
     "name": "stdout",
     "output_type": "stream",
     "text": [
      "[0.08351354 0.02605741 0.07738172 0.09197231 0.01924272 0.44308648\n",
      " 0.10164612 0.10202488 0.03765085 0.01742394]\n"
     ]
    }
   ],
   "source": [
    "print(predictions[n])"
   ]
  },
  {
   "cell_type": "code",
   "execution_count": 38,
   "metadata": {},
   "outputs": [
    {
     "data": {
      "text/plain": [
       "6"
      ]
     },
     "execution_count": 38,
     "metadata": {},
     "output_type": "execute_result"
    }
   ],
   "source": [
    "# Определяем номер класса изображения, который предлагает сеть\n",
    "np.argmax(predictions[n])"
   ]
  },
  {
   "cell_type": "code",
   "execution_count": 39,
   "metadata": {},
   "outputs": [
    {
     "data": {
      "text/plain": [
       "'рубашка'"
      ]
     },
     "execution_count": 39,
     "metadata": {},
     "output_type": "execute_result"
    }
   ],
   "source": [
    "classes[np.argmax(predictions[n])]"
   ]
  },
  {
   "cell_type": "code",
   "execution_count": 40,
   "metadata": {},
   "outputs": [
    {
     "data": {
      "text/plain": [
       "0"
      ]
     },
     "execution_count": 40,
     "metadata": {},
     "output_type": "execute_result"
    }
   ],
   "source": [
    "np.argmax(y_test[n])"
   ]
  },
  {
   "cell_type": "code",
   "execution_count": 41,
   "metadata": {},
   "outputs": [
    {
     "data": {
      "text/plain": [
       "'футболка'"
      ]
     },
     "execution_count": 41,
     "metadata": {},
     "output_type": "execute_result"
    }
   ],
   "source": [
    "classes[np.argmax(y_test[n])]"
   ]
  },
  {
   "cell_type": "code",
   "execution_count": null,
   "metadata": {},
   "outputs": [],
   "source": []
  }
 ],
 "metadata": {
  "kernelspec": {
   "display_name": "Python 3",
   "language": "python",
   "name": "python3"
  },
  "language_info": {
   "codemirror_mode": {
    "name": "ipython",
    "version": 3
   },
   "file_extension": ".py",
   "mimetype": "text/x-python",
   "name": "python",
   "nbconvert_exporter": "python",
   "pygments_lexer": "ipython3",
   "version": "3.7.3"
  }
 },
 "nbformat": 4,
 "nbformat_minor": 2
}
